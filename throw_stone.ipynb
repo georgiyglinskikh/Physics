{
 "cells": [
  {
   "cell_type": "markdown",
   "metadata": {},
   "source": [
    "# Кидаем камень\n",
    "\n",
    "## Подготовка\n",
    "\n",
    "Добавим все библиотеки, которые мы будем использовать в окружение."
   ]
  },
  {
   "cell_type": "code",
   "execution_count": 1,
   "metadata": {},
   "outputs": [],
   "source": [
    "from ipycanvas import Canvas  # Канва для отображения действий\n",
    "import ipywidgets as wg  # Виджеты для интерактива\n",
    "\n",
    "import typing  # Строгая типизация\n",
    "\n",
    "import math  # Математические формулы\n",
    "\n",
    "import numpy as np # Работа с векторами"
   ]
  },
  {
   "cell_type": "markdown",
   "metadata": {},
   "source": [
    "Для начала создаем канву и метод, с помощью которого мы будем рисовать положения тела в пространстве после его броска нами.\n",
    "\n",
    "В данном случае будем использовать черный прямоугольный камень. Сопротивлением воздуха пренебречь"
   ]
  },
  {
   "cell_type": "code",
   "execution_count": 2,
   "metadata": {},
   "outputs": [],
   "source": [
    "width = 1024\n",
    "height = 256\n",
    "\n",
    "# Канва\n",
    "canvas = Canvas(width=width, height=height)\n",
    "\n",
    "stone_color = \"black\"\n",
    "angle_line_color = \"blue\""
   ]
  },
  {
   "cell_type": "markdown",
   "metadata": {},
   "source": [
    "Создадим так же несколько методов для рисования нужных нам примитивов"
   ]
  },
  {
   "cell_type": "code",
   "execution_count": 3,
   "metadata": {},
   "outputs": [],
   "source": [
    "def clear_canvas():\n",
    "    \"\"\"Очистка канвы\"\"\"\n",
    "    global canvas\n",
    "\n",
    "    canvas = Canvas(width=width, height=height)\n",
    "    canvas.clear()\n",
    "\n",
    "\n",
    "def connect_two_point(start: typing.List[float], end: typing.List[float], color: str):\n",
    "    \"\"\"Линия между двумя точками\"\"\"\n",
    "    global canvas\n",
    "\n",
    "    canvas.move_to(start[0], start[1])\n",
    "    canvas.line_to(end[0], end[1])\n",
    "    canvas.stroke_style = color\n",
    "    canvas.stroke()\n",
    "\n",
    "\n",
    "def fill_rect(position: typing.List[float], size: typing.List[float], color: str):\n",
    "    global canvas\n",
    "\n",
    "    canvas.fill_style = color\n",
    "    canvas.fill_rect(position[0], position[1], size[0], size[1])\n",
    "\n",
    "\n",
    "def draw_point(position: typing.List[float]):\n",
    "    \"\"\"Рисуем камень\"\"\"\n",
    "    size = np.array([10, 10])\n",
    "    fill_rect(position, size, stone_color)\n",
    "\n",
    "\n",
    "def draw_line(angle):\n",
    "    \"\"\"Отрисовка линии угла броска\"\"\"\n",
    "    start = np.array([0, height])\n",
    "    rad_angle = math.radians(angle)\n",
    "    end = np.array([\n",
    "        math.cos(rad_angle) * min(width, height),  # Линия видна по всей канве\n",
    "        # Система отсчета канвы - от верхнего левого угла, удобнее - од нижнего левого => переворачиваеем (height - y)\n",
    "        height - math.sin(rad_angle) * height\n",
    "    ])\n",
    "    clear_canvas()\n",
    "    connect_two_point(start, end, angle_line_color)"
   ]
  },
  {
   "cell_type": "markdown",
   "metadata": {},
   "source": [
    "## Математическая составляющая\n",
    "\n",
    "Мы будем считать положение тела по формуле $\\vec{P}(t) = \\vec{P_0} + \\vec{V_0}t + \\frac{\\vec{a}t^2}{2}$, где: \n",
    "- $P$ - положение тела в текущий момент\n",
    "- $P_0$ - начальное положение тела\n",
    "- $V_0$ - начальная скорость\n",
    "- $a$ - ускорение тела\n",
    "- $t$ - время прошедшее с момента броска"
   ]
  },
  {
   "cell_type": "code",
   "execution_count": 4,
   "metadata": {},
   "outputs": [],
   "source": [
    "def next_position(start_position: np.ndarray, start_velocity: np.ndarray, acceleration: np.ndarray):\n",
    "    \"\"\"Функция с замыканием для рассчета следующего положения в зависимости от аргументов и времени\"\"\"\n",
    "    def future_position(t: float) -> np.ndarray:\n",
    "        return start_position + (start_velocity * t) + (acceleration * (t ** 2.0)) / 2.0\n",
    "\n",
    "    return future_position"
   ]
  },
  {
   "cell_type": "markdown",
   "metadata": {},
   "source": [
    "### Задание начальных условий\n",
    "\n",
    "Для начала положим, что мы начинаем движение из точки $P_0(0;0)$ со скоростью ```k_velocity``` метров в секунду и углом ```start_angle``` радиан"
   ]
  },
  {
   "cell_type": "code",
   "execution_count": 5,
   "metadata": {
    "pycharm": {
     "name": "#%%\n"
    }
   },
   "outputs": [
    {
     "output_type": "display_data",
     "data": {
      "text/plain": "interactive(children=(FloatSlider(value=0.0, description='Угол броска', max=90.0, step=0.5), FloatSlider(value…",
      "application/vnd.jupyter.widget-view+json": {
       "version_major": 2,
       "version_minor": 0,
       "model_id": "fbc06a28150c46889e7a6ad3341d7009"
      }
     },
     "metadata": {}
    }
   ],
   "source": [
    "g = np.array([0, -9.81])  # Ускорение свободного падения (направлено вниз)\n",
    "\n",
    "position = np.array([0, 0])\n",
    "\n",
    "full_time = 60  # Cколько будем просчитывать (в секундах)\n",
    "\n",
    "\n",
    "def show_line(angle, delta_time, force):\n",
    "    draw_line(angle)\n",
    "\n",
    "    rad_angle = math.radians(angle)\n",
    "\n",
    "    start_velocity = np.array(\n",
    "        [math.cos(rad_angle), math.sin(rad_angle)]) * force\n",
    "\n",
    "    func = next_position(position, start_velocity, g)\n",
    "\n",
    "    slices = [func(float(i) * delta_time)\n",
    "              for i in range(0, int(full_time / delta_time))]\n",
    "\n",
    "    for i in slices:\n",
    "        draw_point([i[0], height - i[1]])\n",
    "\n",
    "    return canvas\n",
    "\n",
    "\n",
    "start_angle_w = wg.FloatSlider(\n",
    "    description=\"Угол броска\", min=0, max=90, step=0.5)\n",
    "# Через какой отрезок времени будем делать срезы объекта\n",
    "delta_time_w = wg.FloatSlider(\n",
    "    description=\"Дельта времени\", min=0.1, max=4, step=0.5)\n",
    "force_w = wg.FloatSlider(\n",
    "    description=\"Сила, с которой кидаем камень\", min=0.0, max=100.0, step=0.5)\n",
    "\n",
    "_ = wg.interact(show_line, angle=start_angle_w,\n",
    "                delta_time=delta_time_w, force=force_w)"
   ]
  },
  {
   "cell_type": "code",
   "execution_count": null,
   "metadata": {},
   "outputs": [],
   "source": []
  }
 ],
 "metadata": {
  "kernelspec": {
   "name": "Python 3.9.0 64-bit",
   "display_name": "Python 3.9.0 64-bit",
   "metadata": {
    "interpreter": {
     "hash": "767d51c1340bd893661ea55ea3124f6de3c7a262a8b4abca0554b478b1e2ff90"
    }
   }
  },
  "language_info": {
   "codemirror_mode": {
    "name": "ipython",
    "version": 3
   },
   "file_extension": ".py",
   "mimetype": "text/x-python",
   "name": "python",
   "nbconvert_exporter": "python",
   "pygments_lexer": "ipython3",
   "version": "3.9.0-final"
  }
 },
 "nbformat": 4,
 "nbformat_minor": 4
}