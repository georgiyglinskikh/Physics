{
 "cells": [
  {
   "cell_type": "markdown",
   "metadata": {},
   "source": [
    "# Кидаем камень\n",
    "\n",
    "## Подготовка\n",
    "\n",
    "Добавим все библиотеки, которые мы будем использовать в окружение."
   ]
  },
  {
   "cell_type": "code",
   "execution_count": 16,
   "metadata": {},
   "outputs": [],
   "source": [
    "from ipycanvas import Canvas # Канва для отображения действий\n",
    "import ipywidgets as wg # Виджеты для интерактива\n",
    "\n",
    "import typing # Строгая типизация\n",
    "\n",
    "import math # Математические формулы\n",
    "\n",
    "from vector import Vector # Самописная малюсенькая библиотека для работы с векторами"
   ]
  },
  {
   "cell_type": "markdown",
   "metadata": {},
   "source": [
    "Для начала создаем канву и метод, с помощью которого мы будем рисовать положения тела в пространстве после его броска нами.\n",
    "\n",
    "В данном случае будем использовать черный прямоугольный камень. Сопротивлением воздуха пренебречь"
   ]
  },
  {
   "cell_type": "code",
   "execution_count": 17,
   "metadata": {},
   "outputs": [],
   "source": [
    "width = 1024\n",
    "height = 256\n",
    "\n",
    "# Канва\n",
    "canvas = Canvas(width = width, height = height)\n",
    "\n",
    "stone_color = \"black\"\n",
    "angle_line_color = \"blue\""
   ]
  },
  {
   "cell_type": "markdown",
   "metadata": {},
   "source": [
    "Создадим так же несколько методов для рисования нужных нам примитивов"
   ]
  },
  {
   "cell_type": "code",
   "execution_count": 18,
   "metadata": {},
   "outputs": [],
   "source": [
    "def clear_canvas():\n",
    "    \"\"\"Очистка канвы\"\"\"\n",
    "    global canvas\n",
    "\n",
    "    canvas = Canvas(width=width, height=height)\n",
    "    canvas.clear()\n",
    "\n",
    "\n",
    "def connect_two_point(start: Vector, end: Vector, color: str):\n",
    "    \"\"\"Линия между двумя точками\"\"\"\n",
    "    global canvas\n",
    "\n",
    "    canvas.move_to(start.x, start.y)\n",
    "    canvas.line_to(end.x, end.y)\n",
    "    canvas.stroke_style = color\n",
    "    canvas.stroke()\n",
    "\n",
    "def fill_rect(position: Vector, size: Vector, color: str):\n",
    "    global canvas\n",
    "    \n",
    "    canvas.fill_style = color\n",
    "    canvas.fill_rect(position.x, position.y, size.x, size.y)\n",
    "\n",
    "\n",
    "def draw_point(position: Vector):\n",
    "    \"\"\"Рисуем камень\"\"\"\n",
    "    size = Vector(10, 10)\n",
    "    fill_rect(position, size, stone_color)\n",
    "   \n",
    "\n",
    "def draw_line(angle):\n",
    "    \"\"\"Отрисовка линии угла броска\"\"\"\n",
    "    start = Vector(0, height)\n",
    "    rad_angle = math.radians(angle)\n",
    "    end = Vector(\n",
    "        math.cos(rad_angle) * min(width, height), # Линия видна по всей канве \n",
    "        height - math.sin(rad_angle) * height # Система отсчета канвы - от верхнего левого угла, удобнее - од нижнего левого => переворачиваеем (height - y)\n",
    "    )\n",
    "    clear_canvas()\n",
    "    connect_two_point(start, end, angle_line_color)"
   ]
  },
  {
   "cell_type": "markdown",
   "metadata": {},
   "source": [
    "## Математическая составляющая\n",
    "\n",
    "Мы будем считать положение тела по формуле $\\vec{P}(t) = \\vec{P_0} + \\vec{V_0}t + \\frac{\\vec{a}t^2}{2}$, где: \n",
    "- $P$ - положение тела в текущий момент\n",
    "- $P_0$ - начальное положение тела\n",
    "- $V_0$ - начальная скорость\n",
    "- $a$ - ускорение тела\n",
    "- $t$ - время прошедшее с момента броска"
   ]
  },
  {
   "cell_type": "code",
   "execution_count": 19,
   "metadata": {},
   "outputs": [],
   "source": [
    "def next_position(start_position: Vector, start_velocity: Vector, acceleration: Vector):\n",
    "    \"\"\"Функция с замыканием для рассчета следующего положения в зависимости от аргументов и времени\"\"\"\n",
    "    def future_position(t: float) -> Vector:\n",
    "        return start_position \\\n",
    "            + (start_velocity * t) \\\n",
    "            + (acceleration * (t ** 2.0)) / 2.0 \n",
    "\n",
    "    return future_position"
   ]
  },
  {
   "cell_type": "markdown",
   "metadata": {},
   "source": [
    "### Задание начальных условий\n",
    "\n",
    "Для начала положим, что мы начинаем движение из точки $P_0(0;0)$ со скоростью ```k_velocity``` метров в секунду и углом ```start_angle``` радиан"
   ]
  },
  {
   "cell_type": "code",
   "execution_count": 20,
   "metadata": {
    "pycharm": {
     "name": "#%%\n"
    }
   },
   "outputs": [
    {
     "data": {
      "application/vnd.jupyter.widget-view+json": {
       "model_id": "11736c2d64bb4fe7b273fabf71adc4f4",
       "version_major": 2,
       "version_minor": 0
      },
      "text/plain": [
       "interactive(children=(FloatSlider(value=0.0, description='Угол броска', max=90.0, step=0.5), FloatSlider(value…"
      ]
     },
     "metadata": {},
     "output_type": "display_data"
    }
   ],
   "source": [
    "g = Vector(0, -9.81) # Ускорение свободного падения (направлено вниз)\n",
    "\n",
    "position = Vector(0, 0)\n",
    "\n",
    "full_time = 60 # Cколько будем просчитывать (в секундах)\n",
    "\n",
    "def show_line(angle, delta_time, force):\n",
    "    draw_line(angle)\n",
    "\n",
    "    start_velocity = Vector.from_angle(math.radians(angle)) * force\n",
    "\n",
    "    func = next_position(position, start_velocity, g)\n",
    "\n",
    "    slices = [func(float(i) * delta_time) for i in range(0, int(full_time / delta_time))]\n",
    "\n",
    "    for i in slices:\n",
    "        draw_point(Vector(i.x, height - i.y))\n",
    "\n",
    "    return canvas\n",
    "\n",
    "start_angle_w = wg.FloatSlider(description=\"Угол броска\", min=0, max=90, step=0.5)\n",
    "delta_time_w = wg.FloatSlider(description=\"Дельта времени\", min=0.1, max=4, step=0.5) # Через какой отрезок времени будем делать срезы объекта\n",
    "force_w = wg.FloatSlider(description=\"Сила, с которой кидаем камень\", min=0.0, max=100.0, step = 0.5)\n",
    "\n",
    "_ = wg.interact(show_line, angle=start_angle_w, delta_time=delta_time_w, force=force_w)"
   ]
  }
 ],
 "metadata": {
  "kernelspec": {
   "display_name": "Python 3",
   "language": "python",
   "name": "python3"
  },
  "language_info": {
   "codemirror_mode": {
    "name": "ipython",
    "version": 3
   },
   "file_extension": ".py",
   "mimetype": "text/x-python",
   "name": "python",
   "nbconvert_exporter": "python",
   "pygments_lexer": "ipython3",
   "version": "3.9.0"
  }
 },
 "nbformat": 4,
 "nbformat_minor": 4
}
